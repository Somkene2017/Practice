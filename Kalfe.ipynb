{
 "cells": [
  {
   "cell_type": "code",
   "execution_count": 1,
   "outputs": [
    {
     "data": {
      "text/plain": "            date  precipitation  temp_max  temp_min  wind weather\n0     2012-01-02           10.9      10.6       2.8   4.5    rain\n1     2012-01-03            0.8      11.7       7.2   2.3    rain\n2     2012-01-04           20.3      12.2       5.6   4.7    rain\n3     2012-01-05            1.3       8.9       2.8   6.1    rain\n4     2012-01-06            2.5       4.4       2.2   2.2    rain\n...          ...            ...       ...       ...   ...     ...\n1276  2015-12-26            0.0       4.4       0.0   2.5     sun\n1277  2015-12-27            8.6       4.4       1.7   2.9    rain\n1278  2015-12-28            1.5       5.0       1.7   1.3    rain\n1279  2015-12-30            0.0       5.6      -1.0   3.4     sun\n1280  2015-12-31            0.0       5.6      -2.1   3.5     sun\n\n[1281 rows x 6 columns]",
      "text/html": "<div>\n<style scoped>\n    .dataframe tbody tr th:only-of-type {\n        vertical-align: middle;\n    }\n\n    .dataframe tbody tr th {\n        vertical-align: top;\n    }\n\n    .dataframe thead th {\n        text-align: right;\n    }\n</style>\n<table border=\"1\" class=\"dataframe\">\n  <thead>\n    <tr style=\"text-align: right;\">\n      <th></th>\n      <th>date</th>\n      <th>precipitation</th>\n      <th>temp_max</th>\n      <th>temp_min</th>\n      <th>wind</th>\n      <th>weather</th>\n    </tr>\n  </thead>\n  <tbody>\n    <tr>\n      <th>0</th>\n      <td>2012-01-02</td>\n      <td>10.9</td>\n      <td>10.6</td>\n      <td>2.8</td>\n      <td>4.5</td>\n      <td>rain</td>\n    </tr>\n    <tr>\n      <th>1</th>\n      <td>2012-01-03</td>\n      <td>0.8</td>\n      <td>11.7</td>\n      <td>7.2</td>\n      <td>2.3</td>\n      <td>rain</td>\n    </tr>\n    <tr>\n      <th>2</th>\n      <td>2012-01-04</td>\n      <td>20.3</td>\n      <td>12.2</td>\n      <td>5.6</td>\n      <td>4.7</td>\n      <td>rain</td>\n    </tr>\n    <tr>\n      <th>3</th>\n      <td>2012-01-05</td>\n      <td>1.3</td>\n      <td>8.9</td>\n      <td>2.8</td>\n      <td>6.1</td>\n      <td>rain</td>\n    </tr>\n    <tr>\n      <th>4</th>\n      <td>2012-01-06</td>\n      <td>2.5</td>\n      <td>4.4</td>\n      <td>2.2</td>\n      <td>2.2</td>\n      <td>rain</td>\n    </tr>\n    <tr>\n      <th>...</th>\n      <td>...</td>\n      <td>...</td>\n      <td>...</td>\n      <td>...</td>\n      <td>...</td>\n      <td>...</td>\n    </tr>\n    <tr>\n      <th>1276</th>\n      <td>2015-12-26</td>\n      <td>0.0</td>\n      <td>4.4</td>\n      <td>0.0</td>\n      <td>2.5</td>\n      <td>sun</td>\n    </tr>\n    <tr>\n      <th>1277</th>\n      <td>2015-12-27</td>\n      <td>8.6</td>\n      <td>4.4</td>\n      <td>1.7</td>\n      <td>2.9</td>\n      <td>rain</td>\n    </tr>\n    <tr>\n      <th>1278</th>\n      <td>2015-12-28</td>\n      <td>1.5</td>\n      <td>5.0</td>\n      <td>1.7</td>\n      <td>1.3</td>\n      <td>rain</td>\n    </tr>\n    <tr>\n      <th>1279</th>\n      <td>2015-12-30</td>\n      <td>0.0</td>\n      <td>5.6</td>\n      <td>-1.0</td>\n      <td>3.4</td>\n      <td>sun</td>\n    </tr>\n    <tr>\n      <th>1280</th>\n      <td>2015-12-31</td>\n      <td>0.0</td>\n      <td>5.6</td>\n      <td>-2.1</td>\n      <td>3.5</td>\n      <td>sun</td>\n    </tr>\n  </tbody>\n</table>\n<p>1281 rows × 6 columns</p>\n</div>"
     },
     "execution_count": 1,
     "metadata": {},
     "output_type": "execute_result"
    }
   ],
   "source": [
    "import pandas as pd\n",
    "\n",
    "df = pd.read_csv(r\"C:\\Users\\pc\\Desktop\\Practice\\weather_forecast.csv\")\n",
    "df"
   ],
   "metadata": {
    "collapsed": false,
    "pycharm": {
     "name": "#%%\n"
    }
   }
  },
  {
   "cell_type": "code",
   "execution_count": 2,
   "outputs": [
    {
     "data": {
      "text/plain": "Index(['date', 'precipitation', 'temp_max', 'temp_min', 'wind', 'weather'], dtype='object')"
     },
     "execution_count": 2,
     "metadata": {},
     "output_type": "execute_result"
    }
   ],
   "source": [
    "df.columns"
   ],
   "metadata": {
    "collapsed": false,
    "pycharm": {
     "name": "#%%\n"
    }
   }
  },
  {
   "cell_type": "code",
   "execution_count": 3,
   "outputs": [],
   "source": [
    "col = list(df.columns)\n",
    "col.remove('date')"
   ],
   "metadata": {
    "collapsed": false,
    "pycharm": {
     "name": "#%%\n"
    }
   }
  },
  {
   "cell_type": "code",
   "execution_count": 4,
   "outputs": [
    {
     "data": {
      "text/plain": "['precipitation', 'temp_max', 'temp_min', 'wind', 'weather']"
     },
     "execution_count": 4,
     "metadata": {},
     "output_type": "execute_result"
    }
   ],
   "source": [
    "col"
   ],
   "metadata": {
    "collapsed": false,
    "pycharm": {
     "name": "#%%\n"
    }
   }
  },
  {
   "cell_type": "code",
   "execution_count": 5,
   "outputs": [
    {
     "name": "stdout",
     "output_type": "stream",
     "text": [
      "recall_score:  0.9937888198757764\n",
      "accuracy_score:  0.9657320872274143\n",
      "precision_score:  0.9411764705882353\n"
     ]
    }
   ],
   "source": [
    "from sklearn.model_selection import train_test_split\n",
    "from sklearn.metrics import accuracy_score, precision_score, recall_score\n",
    "from sklearn.ensemble import RandomForestClassifier\n",
    "from sklearn.preprocessing import LabelEncoder\n",
    "\n",
    "X = df.drop(columns=['weather', 'date']).values\n",
    "y = df.weather\n",
    "le = LabelEncoder()\n",
    "y2 = le.fit_transform(y)\n",
    "\n",
    "X_train, X_test, y_train, y_test = train_test_split(X,y2, random_state=22)\n",
    "\n",
    "rf = RandomForestClassifier()\n",
    "rf.fit(X_train, y_train)\n",
    "y_pred = rf.predict(X_test)\n",
    "print('recall_score: ', recall_score(y_test, y_pred))\n",
    "print('accuracy_score: ', accuracy_score(y_test, y_pred))\n",
    "print('precision_score: ', precision_score(y_test, y_pred))"
   ],
   "metadata": {
    "collapsed": false,
    "pycharm": {
     "name": "#%%\n"
    }
   }
  },
  {
   "cell_type": "code",
   "execution_count": 6,
   "outputs": [],
   "source": [
    "import pickle\n",
    "pickle.dump(rf, open(r\"C:\\Users\\pc\\Desktop\\Practice\\model_pack.json\", 'wb'))"
   ],
   "metadata": {
    "collapsed": false,
    "pycharm": {
     "name": "#%%\n"
    }
   }
  },
  {
   "cell_type": "code",
   "execution_count": 7,
   "outputs": [
    {
     "name": "stdout",
     "output_type": "stream",
     "text": [
      "[1]\n"
     ]
    }
   ],
   "source": [
    "import numpy as np\n",
    "inputs = [0.0,13.9,1.7,2.9]\n",
    "input_array = np.asarray(inputs).reshape(1,-1)\n",
    "model_solver = pickle.load(open(r\"C:\\Users\\pc\\Desktop\\Practice\\model_pack.json\", 'rb'))\n",
    "print(model_solver.predict(input_array))\n"
   ],
   "metadata": {
    "collapsed": false,
    "pycharm": {
     "name": "#%%\n"
    }
   }
  },
  {
   "cell_type": "code",
   "execution_count": 8,
   "outputs": [
    {
     "data": {
      "text/plain": "array(['rain', 'sun'], dtype=object)"
     },
     "execution_count": 8,
     "metadata": {},
     "output_type": "execute_result"
    }
   ],
   "source": [
    "le.classes_"
   ],
   "metadata": {
    "collapsed": false,
    "pycharm": {
     "name": "#%%\n"
    }
   }
  },
  {
   "cell_type": "code",
   "execution_count": 8,
   "outputs": [],
   "source": [],
   "metadata": {
    "collapsed": false,
    "pycharm": {
     "name": "#%%\n"
    }
   }
  }
 ],
 "metadata": {
  "kernelspec": {
   "display_name": "Python 3 (ipykernel)",
   "language": "python",
   "name": "python3"
  },
  "language_info": {
   "codemirror_mode": {
    "name": "ipython",
    "version": 3
   },
   "file_extension": ".py",
   "mimetype": "text/x-python",
   "name": "python",
   "nbconvert_exporter": "python",
   "pygments_lexer": "ipython3",
   "version": "3.10.9"
  }
 },
 "nbformat": 4,
 "nbformat_minor": 5
}